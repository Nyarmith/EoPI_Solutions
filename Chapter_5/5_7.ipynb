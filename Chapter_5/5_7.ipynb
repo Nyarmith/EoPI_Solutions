{
 "cells": [
  {
   "cell_type": "markdown",
   "metadata": {},
   "source": [
    "#### 5.7\n",
    "\n",
    "Write a funciton that performs base conversion. Specifically, the input is an integer base $b_1$, a string $s$, representing an integer $x$ in base $b_1$, and another integer base $b_2$; the output is the string representing the integer $x$ in base $b_2$. Assume $2 \\leq b_1, b_2 \\leq 16$. Use \"A\" to represent 10, \"B\" for 11, ..., and \"F\" for 15"
   ]
  },
  {
   "cell_type": "code",
   "execution_count": 1,
   "metadata": {},
   "outputs": [
    {
     "data": {
      "text/plain": []
     },
     "execution_count": 1,
     "metadata": {},
     "output_type": "execute_result"
    }
   ],
   "source": [
    "#include <iostream>\n",
    "#include <string>\n",
    "#include <algorithm>"
   ]
  },
  {
   "cell_type": "code",
   "execution_count": 4,
   "metadata": {},
   "outputs": [
    {
     "name": "stderr",
     "output_type": "stream",
     "text": [
      "Using raw input\n"
     ]
    },
    {
     "data": {
      "text/plain": []
     },
     "execution_count": 4,
     "metadata": {},
     "output_type": "execute_result"
    }
   ],
   "source": [
    ".rawInput"
   ]
  },
  {
   "cell_type": "code",
   "execution_count": null,
   "metadata": {
    "collapsed": true
   },
   "outputs": [],
   "source": [
    "int get_decimal_value(char in){\n",
    "    if (in >= 'A' && in <= 'F'){\n",
    "        return in -'A' + 10;\n",
    "    }\n",
    "    return in-'0';\n",
    "}\n",
    "\n",
    "char get_char(int in){\n",
    "    if (in >= 10 && in <= 15){\n",
    "        return 'A\" + in - 10;\n",
    "    }\n",
    "    return in + '0';\n",
    "}\n",
    "\n",
    "std::string cftbase(const std::string &num, int b1, int b2){  //convert from-to base\n",
    "    std::string out=\"\";\n",
    "    int base_10_num=0;\n",
    "    for (int i=0; i<num.length(); ++i){\n",
    "        base_10_num *= b1;\n",
    "        base_10_num += get_decimal_value(in);\n",
    "    }\n",
    "    //convert to base b2\n",
    "    while(num){\n",
    "        out.insert(out.begin(), base_10_num % b2);\n",
    "        base_10_num /= b2;\n",
    "    }\n",
    "    return out;\n",
    "}"
   ]
  },
  {
   "cell_type": "code",
   "execution_count": null,
   "metadata": {
    "collapsed": true
   },
   "outputs": [],
   "source": [
    ".rawInput"
   ]
  }
 ],
 "metadata": {
  "kernelspec": {
   "display_name": "C++14",
   "language": "",
   "name": "cling-cpp14"
  },
  "language_info": {
   "codemirror_mode": "c++",
   "file_extension": ".c++",
   "mimetype": "text/x-c++src",
   "name": "c++"
  }
 },
 "nbformat": 4,
 "nbformat_minor": 2
}
