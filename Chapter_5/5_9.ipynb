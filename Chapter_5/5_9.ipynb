{
 "cells": [
  {
   "cell_type": "markdown",
   "metadata": {},
   "source": [
    "#### 5.9 Elias Gamma Coding\n",
    "\n",
    "A numeral system is a way of writing numbers. The simplest numeral system is the unary number system, in which every natural number is expressed by a corresponding number of system. The elias gamma code is used to encode positive integers. It is useful when an upper bound being encoded is not known. Specifically, the Elias gamma code of a positive integer n is computed as follows.\n",
    "* Write $n$ in binaryto form a string b.\n",
    "* Subtract 1 from the nunmber of bits written in the first step, and add that many zeroes to the beginning of string b\n",
    "\n",
    "----\n",
    "\n",
    "problem stmt, make the elias gamma function"
   ]
  },
  {
   "cell_type": "code",
   "execution_count": 1,
   "metadata": {},
   "outputs": [
    {
     "data": {
      "text/plain": []
     },
     "execution_count": 1,
     "metadata": {},
     "output_type": "execute_result"
    }
   ],
   "source": [
    "#include <iostream>\n",
    "#include <string>"
   ]
  },
  {
   "cell_type": "code",
   "execution_count": 2,
   "metadata": {},
   "outputs": [
    {
     "name": "stdout",
     "output_type": "stream",
     "text": [
      "8421"
     ]
    },
    {
     "data": {
      "text/plain": []
     },
     "execution_count": 2,
     "metadata": {},
     "output_type": "execute_result"
    }
   ],
   "source": [
    "unsigned int i=0x10;\n",
    "while(i >>=1) std::cout << i;"
   ]
  },
  {
   "cell_type": "code",
   "execution_count": 3,
   "metadata": {},
   "outputs": [
    {
     "data": {
      "text/plain": []
     },
     "execution_count": 3,
     "metadata": {},
     "output_type": "execute_result"
    }
   ],
   "source": [
    "std::string eliasEncode(unsigned int n){\n",
    "    std::string ret=\"\";\n",
    "    unsigned int b = n;\n",
    "    while (n) { ret.insert(ret.begin(), '0' + (n & 1u)); n >>= 1; }\n",
    "    while (b>>=1) { ret.insert(ret.begin(), '0'); }\n",
    "    return ret;\n",
    "}"
   ]
  },
  {
   "cell_type": "code",
   "execution_count": 4,
   "metadata": {},
   "outputs": [
    {
     "name": "stdout",
     "output_type": "stream",
     "text": [
      "000010000"
     ]
    },
    {
     "data": {
      "text/plain": [
       "(std::basic_ostream<char, std::char_traits<char> > &) @0x7fe811beaf40\n"
      ]
     },
     "execution_count": 4,
     "metadata": {},
     "output_type": "execute_result"
    }
   ],
   "source": [
    "unsigned int m=0x10u;\n",
    "std::cout << eliasEncode(m);"
   ]
  },
  {
   "cell_type": "code",
   "execution_count": null,
   "metadata": {
    "collapsed": true
   },
   "outputs": [],
   "source": []
  }
 ],
 "metadata": {
  "kernelspec": {
   "display_name": "C++14",
   "language": "",
   "name": "cling-cpp14"
  },
  "language_info": {
   "codemirror_mode": "c++",
   "file_extension": ".c++",
   "mimetype": "text/x-c++src",
   "name": "c++"
  }
 },
 "nbformat": 4,
 "nbformat_minor": 2
}
