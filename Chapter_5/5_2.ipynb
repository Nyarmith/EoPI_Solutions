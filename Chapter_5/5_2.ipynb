{
 "cells": [
  {
   "cell_type": "markdown",
   "metadata": {},
   "source": [
    "#### Problem 5.2 : Swapping Bits\n",
    "\n",
    "The problem states a few tips, namely:\n",
    "* x & (x-1) == x with the least significant bit cleared\n",
    "* x & !(x-1) == lowest set bit of x (aka all other bits cleared)\n",
    "* x * (x >> 1) is the standard (binary-reflected) gray-code for x"
   ]
  },
  {
   "cell_type": "code",
   "execution_count": 1,
   "metadata": {},
   "outputs": [
    {
     "data": {
      "text/plain": []
     },
     "execution_count": 1,
     "metadata": {},
     "output_type": "execute_result"
    }
   ],
   "source": [
    "#include <iostream>\n",
    "#include <bitset>\n",
    "#include <algorithm>\n",
    "#include <vector>\n",
    "#include <cstdint>"
   ]
  },
  {
   "cell_type": "code",
   "execution_count": 2,
   "metadata": {},
   "outputs": [
    {
     "data": {
      "text/plain": []
     },
     "execution_count": 2,
     "metadata": {},
     "output_type": "execute_result"
    }
   ],
   "source": [
    "//first let's play with the binary representation of things to verify these stated theories\n",
    "uint64_t x = 4194309;\n"
   ]
  },
  {
   "cell_type": "code",
   "execution_count": 3,
   "metadata": {},
   "outputs": [
    {
     "name": "stdout",
     "output_type": "stream",
     "text": [
      "00000000010000000000000000000101\n"
     ]
    },
    {
     "data": {
      "text/plain": [
       "(std::basic_ostream<char, std::char_traits<char> >::__ostream_type &) @0x7f64b0880f40\n"
      ]
     },
     "execution_count": 3,
     "metadata": {},
     "output_type": "execute_result"
    }
   ],
   "source": [
    "std::cout << std::bitset<32>(x) << std::endl;"
   ]
  },
  {
   "cell_type": "code",
   "execution_count": 4,
   "metadata": {},
   "outputs": [
    {
     "name": "stdout",
     "output_type": "stream",
     "text": [
      "00000000010000000000000000000100\n",
      "00000000000000000000000000000000\n",
      "00000000011000000000000000000111\n",
      "\n",
      "00000000010000000000000000000101\n"
     ]
    },
    {
     "data": {
      "text/plain": [
       "(std::basic_ostream<char, std::char_traits<char> >::__ostream_type &) @0x7f64b0880f40\n"
      ]
     },
     "execution_count": 4,
     "metadata": {},
     "output_type": "execute_result"
    }
   ],
   "source": [
    "std::cout << std::bitset<32>(x & (x-1)) << std::endl;\n",
    "std::cout << std::bitset<32>(x & (!(x-1))) << std::endl;\n",
    "std::cout << std::bitset<32>(x ^ (x>>1)) << std::endl << std::endl;\n",
    "\n",
    "std::cout << std::bitset<32>(x) << std::endl;"
   ]
  },
  {
   "cell_type": "code",
   "execution_count": 5,
   "metadata": {},
   "outputs": [
    {
     "name": "stdout",
     "output_type": "stream",
     "text": [
      "i : 23     j : 56\n",
      "i : 56     j : 23\n"
     ]
    },
    {
     "data": {
      "text/plain": [
       "(std::basic_ostream<char, std::char_traits<char> >::__ostream_type &) @0x7f64b0880f40\n"
      ]
     },
     "execution_count": 5,
     "metadata": {},
     "output_type": "execute_result"
    }
   ],
   "source": [
    "int i=23;\n",
    "int j=56;\n",
    "\n",
    "std::cout << \"i : \" << i << \"     j : \" << j << std::endl;\n",
    "\n",
    "std::swap(i,j);\n",
    "\n",
    "std::cout << \"i : \" << i << \"     j : \" << j << std::endl;"
   ]
  },
  {
   "cell_type": "code",
   "execution_count": 6,
   "metadata": {},
   "outputs": [
    {
     "data": {
      "text/plain": []
     },
     "execution_count": 6,
     "metadata": {},
     "output_type": "execute_result"
    }
   ],
   "source": [
    "\n",
    "void swap_bits(uint64_t &n, uint32_t i, uint32_t j){\n",
    "    if ( i > 63 || j > 63 ) return ;\n",
    "    if (i > j)\n",
    "        std::swap(i,j);\n",
    "    uint64_t left_mask = 0xFFFFFFFFFFFFFFFF;\n",
    "    if (j != 63)\n",
    "        left_mask = left_mask << (j+1);  //what I wanted originally I thin was 1U<<63, 0xFFFFull, etc... Integer Literals!\n",
    "    else\n",
    "        left_mask = 0;\n",
    "        \n",
    "    \n",
    "    std::cout << \"left_mask: \" << std::bitset<64>(left_mask) << std::endl;\n",
    "    \n",
    "    uint64_t right_mask = 0xFFFFFFFFFFFFFFFF;\n",
    "    right_mask = right_mask >> (64-i);\n",
    "    \n",
    "    std::cout << \"right_mask: \" << std::bitset<64>(right_mask) << std::endl;\n",
    "    \n",
    "    uint64_t i_mask = 1; \n",
    "    i_mask <<= i;\n",
    "    \n",
    "    std::cout << \"i_mask: \" << std::bitset<64>(i_mask) << std::endl;\n",
    "    \n",
    "    uint64_t j_mask = 1;\n",
    "    j_mask <<= j;\n",
    "    \n",
    "    std::cout << \"j_mask: \" << std::bitset<64>(j_mask) << std::endl;\n",
    "    \n",
    "    uint64_t middle_mask = ~(i_mask | j_mask | left_mask | right_mask);\n",
    "    \n",
    "    std::cout << \"middle_mask: \" << std::bitset<64>(middle_mask) << std::endl;\n",
    "        \n",
    "    i_mask = n & i_mask;\n",
    "    i_mask = i_mask << (j-i);\n",
    "    j_mask = n & j_mask;\n",
    "    j_mask = j_mask >> (j-i);\n",
    "    \n",
    "    n = ((n & left_mask) | i_mask | (n & middle_mask) | j_mask | (n & right_mask));\n",
    "}"
   ]
  },
  {
   "cell_type": "code",
   "execution_count": 7,
   "metadata": {},
   "outputs": [
    {
     "name": "stdout",
     "output_type": "stream",
     "text": [
      "0000000000000000000000000000000000000000010000000000000000000101\n",
      "left_mask: 1000000000000000000000000000000000000000000000000000000000000000\n",
      "right_mask: 0000000000000000000000000000000000000000000000000000000000000011\n",
      "i_mask: 0000000000000000000000000000000000000000000000000000000000000100\n",
      "j_mask: 0100000000000000000000000000000000000000000000000000000000000000\n",
      "middle_mask: 0011111111111111111111111111111111111111111111111111111111111000\n",
      "0100000000000000000000000000000000000000010000000000000000000001\n"
     ]
    },
    {
     "data": {
      "text/plain": [
       "(std::basic_ostream<char, std::char_traits<char> >::__ostream_type &) @0x7f64b0880f40\n"
      ]
     },
     "execution_count": 7,
     "metadata": {},
     "output_type": "execute_result"
    }
   ],
   "source": [
    "std::cout << std::bitset<64>(x) << std::endl;\n",
    "swap_bits(x,2,62);\n",
    "std::cout << std::bitset<64>(x) << std::endl;"
   ]
  },
  {
   "cell_type": "code",
   "execution_count": null,
   "metadata": {
    "collapsed": true
   },
   "outputs": [],
   "source": []
  }
 ],
 "metadata": {
  "kernelspec": {
   "display_name": "C++14",
   "language": "",
   "name": "cling-cpp14"
  },
  "language_info": {
   "codemirror_mode": "c++",
   "file_extension": ".c++",
   "mimetype": "text/x-c++src",
   "name": "c++"
  }
 },
 "nbformat": 4,
 "nbformat_minor": 2
}
