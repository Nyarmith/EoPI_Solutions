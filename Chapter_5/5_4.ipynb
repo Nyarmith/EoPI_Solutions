{
 "cells": [
  {
   "cell_type": "markdown",
   "metadata": {},
   "source": [
    "#### Chapter 5.4\n",
    "Let the *weight* of an unsigned 64-bit integer x be the number of bits that are set to 1.\n",
    "\n",
    "Let $S_k$ denote the set of unsigned integers whose weight is $k$.\n",
    "\n",
    "Suppose $x \\in S_k$, and k is not 0 or 64. How would you compute $y \\in S_k \\text{ \\\\ } x$ such that $|y-x|$ is minimized?\n",
    "\n",
    "After thinking about it for a bit, I'm fairly convinced that we can accomplish by finding the lowest significant bit that is shiftable down, and shifting it down."
   ]
  },
  {
   "cell_type": "code",
   "execution_count": 2,
   "metadata": {},
   "outputs": [
    {
     "data": {
      "text/plain": []
     },
     "execution_count": 2,
     "metadata": {},
     "output_type": "execute_result"
    }
   ],
   "source": [
    "#include <iostream>\n",
    "#include <cstdint>\n",
    "#include <cstring>  //ffsll"
   ]
  },
  {
   "cell_type": "code",
   "execution_count": 4,
   "metadata": {},
   "outputs": [
    {
     "data": {
      "text/plain": []
     },
     "execution_count": 4,
     "metadata": {},
     "output_type": "execute_result"
    }
   ],
   "source": [
    "void swap_bits(uint64_t &n, uint32_t i, uint32_t j){\n",
    "    if ( i > 63 || j > 63 ) return ;\n",
    "    if (i > j)\n",
    "        std::swap(i,j);\n",
    "    uint64_t left_mask = 0xFFFFFFFFFFFFFFFF;\n",
    "    if (j != 63)\n",
    "        left_mask = left_mask << (j+1);  //what I wanted originally I thin was 1U<<63, 0xFFFFull, etc... Integer Literals!\n",
    "    else\n",
    "        left_mask = 0;\n",
    "        \n",
    "    \n",
    "    //std::cout << \"left_mask: \" << std::bitset<64>(left_mask) << std::endl;\n",
    "    \n",
    "    uint64_t right_mask = 0xFFFFFFFFFFFFFFFF;\n",
    "    right_mask = right_mask >> (64-i);\n",
    "    \n",
    "    //std::cout << \"right_mask: \" << std::bitset<64>(right_mask) << std::endl;\n",
    "    \n",
    "    uint64_t i_mask = 1; \n",
    "    i_mask <<= i;\n",
    "    \n",
    "    //std::cout << \"i_mask: \" << std::bitset<64>(i_mask) << std::endl;\n",
    "    \n",
    "    uint64_t j_mask = 1;\n",
    "    j_mask <<= j;\n",
    "    \n",
    "    //std::cout << \"j_mask: \" << std::bitset<64>(j_mask) << std::endl;\n",
    "    \n",
    "    uint64_t middle_mask = ~(i_mask | j_mask | left_mask | right_mask);\n",
    "    \n",
    "    //std::cout << \"middle_mask: \" << std::bitset<64>(middle_mask) << std::endl;\n",
    "        \n",
    "    i_mask = n & i_mask;\n",
    "    i_mask = i_mask << (j-i);\n",
    "    j_mask = n & j_mask;\n",
    "    j_mask = j_mask >> (j-i);\n",
    "    \n",
    "    n = ((n & left_mask) | i_mask | (n & middle_mask) | j_mask | (n & right_mask));\n",
    "}"
   ]
  },
  {
   "cell_type": "code",
   "execution_count": 5,
   "metadata": {},
   "outputs": [
    {
     "data": {
      "text/plain": []
     },
     "execution_count": 5,
     "metadata": {},
     "output_type": "execute_result"
    }
   ],
   "source": [
    "uint64_t closest_weigth(uint64_t n){\n",
    "    int i = ffsll(n);\n",
    "    if (i != 0) {\n",
    "        swap_bits(n,i,i-1);\n",
    "        return n;\n",
    "    }\n",
    "    else{\n",
    "        while (i & n){\n",
    "            i <<= 1;\n",
    "        }\n",
    "        swap_bits(n,i,i-1);\n",
    "    }\n",
    "    return n;\n",
    "}"
   ]
  },
  {
   "cell_type": "code",
   "execution_count": null,
   "metadata": {
    "collapsed": true
   },
   "outputs": [],
   "source": []
  }
 ],
 "metadata": {
  "kernelspec": {
   "display_name": "C++14",
   "language": "",
   "name": "cling-cpp14"
  },
  "language_info": {
   "codemirror_mode": "c++",
   "file_extension": ".c++",
   "mimetype": "text/x-c++src",
   "name": "c++"
  }
 },
 "nbformat": 4,
 "nbformat_minor": 2
}
