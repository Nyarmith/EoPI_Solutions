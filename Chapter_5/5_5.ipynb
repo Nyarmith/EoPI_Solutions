{
 "cells": [
  {
   "cell_type": "code",
   "execution_count": null,
   "metadata": {},
   "outputs": [],
   "source": [
    "#include <iostream>\n",
    "#include <cstdint>"
   ]
  },
  {
   "cell_type": "code",
   "execution_count": null,
   "metadata": {},
   "outputs": [],
   "source": [
    "uint64_t a = 23;\n",
    "std::cout << a;"
   ]
  },
  {
   "cell_type": "code",
   "execution_count": null,
   "metadata": {},
   "outputs": [],
   "source": [
    "//a random test\n",
    "std::cout << !a << std::endl;\n",
    "std::cout << !(0) << std::endl;"
   ]
  },
  {
   "cell_type": "markdown",
   "metadata": {
    "collapsed": true
   },
   "source": [
    "^ok !(integer) is 0 and vice versa\n",
    "\n",
    "#### Problem 5.5\n",
    "\n",
    "The power set of a set $S$ is the set of all subsets of $S$, uncluding both the empty set $\\emptyset$ and $S$ itself.\n",
    "\n",
    "Well, we all know what a power-set is.\n",
    "\n",
    "problem stmt\n",
    "\n",
    "----------\n",
    "\n",
    "implement a method that takes as input a set of $S$ distinct elements, and prints the power sewt of S. Print the subsets one per line, with elements separated by commas."
   ]
  },
  {
   "cell_type": "code",
   "execution_count": null,
   "metadata": {},
   "outputs": [],
   "source": [
    "#include <vector>\n",
    "#include <string>\n",
    "#include <algorithm>\n",
    "#include <iterator>"
   ]
  },
  {
   "cell_type": "code",
   "execution_count": null,
   "metadata": {},
   "outputs": [],
   "source": [
    ".rawInput"
   ]
  },
  {
   "cell_type": "code",
   "execution_count": null,
   "metadata": {},
   "outputs": [],
   "source": [
    "std::string wow=\"abc\";\n",
    "//strings are sets here\n",
    "\n",
    "std::vector< std::string > powerset(const std::string &S){\n",
    "    std::vector< std::string > S_n;\n",
    "    S_n.push_back(S);\n",
    "    if (S.size() == 1)\n",
    "        return S_n;\n",
    "        \n",
    "    for (int i=0; i < S.size(); ++i){\n",
    "        std::string string_cpy = S;\n",
    "        string_cpy.erase(string_cpy.begin() + i);\n",
    "        std::vector< std::string > res = powerset(string_cpy);\n",
    "        S_n.insert( S_n.end(), res.begin(), res.end() );\n",
    "    }\n",
    "    return S_n;\n",
    "}\n"
   ]
  },
  {
   "cell_type": "code",
   "execution_count": null,
   "metadata": {},
   "outputs": [],
   "source": [
    ".rawInput"
   ]
  },
  {
   "cell_type": "code",
   "execution_count": null,
   "metadata": {},
   "outputs": [],
   "source": [
    "auto b = powerset(wow);\n",
    "for (auto i = b.begin(); i < b.end(); ++i){\n",
    "    std::cout << *i << std::endl;\n",
    "}"
   ]
  },
  {
   "cell_type": "code",
   "execution_count": null,
   "metadata": {
    "collapsed": true
   },
   "outputs": [],
   "source": []
  }
 ],
 "metadata": {
  "kernelspec": {
   "display_name": "C++14",
   "language": "",
   "name": "cling-cpp14"
  },
  "language_info": {
   "codemirror_mode": "c++",
   "file_extension": ".c++",
   "mimetype": "text/x-c++src",
   "name": "c++"
  }
 },
 "nbformat": 4,
 "nbformat_minor": 2
}
