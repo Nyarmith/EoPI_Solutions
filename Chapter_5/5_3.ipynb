{
 "cells": [
  {
   "cell_type": "markdown",
   "metadata": {},
   "source": [
    "#### 5.3 Bit Reversal\n",
    "\n",
    "Here is a bit fiddling problem that is concerned with restructuring.\n",
    "\n",
    "5.3: Write a function that takes a 64-bit integer x and returns a 64-bit integer consisting of the bits of x in reverse order\n"
   ]
  },
  {
   "cell_type": "code",
   "execution_count": 1,
   "metadata": {},
   "outputs": [
    {
     "data": {
      "text/plain": []
     },
     "execution_count": 1,
     "metadata": {},
     "output_type": "execute_result"
    }
   ],
   "source": [
    "#include <cstdint>\n",
    "#include <iostream>\n",
    "#include <bitset>"
   ]
  },
  {
   "cell_type": "code",
   "execution_count": 2,
   "metadata": {},
   "outputs": [
    {
     "data": {
      "text/plain": []
     },
     "execution_count": 2,
     "metadata": {},
     "output_type": "execute_result"
    }
   ],
   "source": [
    "//well, let's go with the easiest solution first\n",
    "\n",
    "uint64_t reverse(const uint64_t &n){\n",
    "    uint64_t lval = 0;\n",
    "    for (int i=0; i<64; i++){\n",
    "        lval |= ((n & 1u << i) << (63 - 2*i));\n",
    "    }\n",
    "    return lval;\n",
    "}"
   ]
  },
  {
   "cell_type": "code",
   "execution_count": 3,
   "metadata": {},
   "outputs": [
    {
     "name": "stdout",
     "output_type": "stream",
     "text": [
      "0000000000000000000000000000000000000000000001110111101101001010\n",
      "0101001011011110111000000000000000000000000000000000000000000000\n"
     ]
    },
    {
     "data": {
      "text/plain": [
       "(std::basic_ostream<char, std::char_traits<char> >::__ostream_type &) @0x7fdc9c10bf40\n"
      ]
     },
     "execution_count": 3,
     "metadata": {},
     "output_type": "execute_result"
    }
   ],
   "source": [
    "uint64_t x = 490314;\n",
    "std::cout << std::bitset<64>(x) << std::endl;\n",
    "std::cout << std::bitset<64>(reverse(x)) << std::endl;"
   ]
  },
  {
   "cell_type": "code",
   "execution_count": null,
   "metadata": {
    "collapsed": true
   },
   "outputs": [],
   "source": []
  }
 ],
 "metadata": {
  "kernelspec": {
   "display_name": "C++14",
   "language": "",
   "name": "cling-cpp14"
  },
  "language_info": {
   "codemirror_mode": "c++",
   "file_extension": ".c++",
   "mimetype": "text/x-c++src",
   "name": "c++"
  }
 },
 "nbformat": 4,
 "nbformat_minor": 2
}
