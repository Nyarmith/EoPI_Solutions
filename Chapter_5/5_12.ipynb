{
 "cells": [
  {
   "cell_type": "markdown",
   "metadata": {},
   "source": [
    "## 5.12\n",
    "Call a rectangle $R$ defined by its left-most lower point $(R_x, R_y)$, its width $R_w$ and its height $R_h$\n",
    "\n",
    "----\n",
    "\n",
    "Let $R$ and $S$ be rectangles, whirwe a function which test if they have a nonempty intersection. If the intersection is nonempty return the rectangle formed by their intersection."
   ]
  },
  {
   "cell_type": "code",
   "execution_count": 1,
   "metadata": {},
   "outputs": [
    {
     "data": {
      "text/plain": []
     },
     "execution_count": 1,
     "metadata": {},
     "output_type": "execute_result"
    }
   ],
   "source": [
    "#include <iostream>\n",
    "#include <algorithm>\n",
    "#include <vector>\n",
    "#include <utility>"
   ]
  },
  {
   "cell_type": "code",
   "execution_count": 2,
   "metadata": {},
   "outputs": [
    {
     "data": {
      "text/plain": []
     },
     "execution_count": 2,
     "metadata": {},
     "output_type": "execute_result"
    }
   ],
   "source": [
    "struct Rectangle{\n",
    "    typedef std::pair<int, int> ipair;\n",
    "    ipair x; //pos and width\n",
    "    ipair y;\n",
    "}"
   ]
  },
  {
   "cell_type": "code",
   "execution_count": 3,
   "metadata": {},
   "outputs": [
    {
     "data": {
      "text/plain": []
     },
     "execution_count": 3,
     "metadata": {},
     "output_type": "execute_result"
    }
   ],
   "source": [
    "//asd\n",
    "typedef std::pair<int, int> ipair;\n",
    "ipair x_1(1,3);\n",
    "ipair y_1(1,3);\n",
    "ipair x_2(2,3);\n",
    "ipair y_2(0,2);"
   ]
  },
  {
   "cell_type": "code",
   "execution_count": 4,
   "metadata": {},
   "outputs": [
    {
     "data": {
      "text/plain": []
     },
     "execution_count": 4,
     "metadata": {},
     "output_type": "execute_result"
    }
   ],
   "source": [
    "auto min_pair = std::min(x_1, y_2);"
   ]
  },
  {
   "cell_type": "code",
   "execution_count": 5,
   "metadata": {},
   "outputs": [
    {
     "name": "stdout",
     "output_type": "stream",
     "text": [
      "0 : 2"
     ]
    },
    {
     "data": {
      "text/plain": [
       "(std::basic_ostream<char, std::char_traits<char> >::__ostream_type &) @0x7fe6d5fd7f40\n"
      ]
     },
     "execution_count": 5,
     "metadata": {},
     "output_type": "execute_result"
    }
   ],
   "source": [
    "std::cout << min_pair.first << \" : \" << min_pair.second;"
   ]
  },
  {
   "cell_type": "code",
   "execution_count": 6,
   "metadata": {},
   "outputs": [
    {
     "name": "stdout",
     "output_type": "stream",
     "text": [
      "0 : 0"
     ]
    },
    {
     "data": {
      "text/plain": [
       "(std::basic_ostream<char, std::char_traits<char> >::__ostream_type &) @0x7fe6d5fd7f40\n"
      ]
     },
     "execution_count": 6,
     "metadata": {},
     "output_type": "execute_result"
    }
   ],
   "source": [
    "ipair rasd;  //checking default initialization\n",
    "std::cout << rasd.first << \" : \" << rasd.second;"
   ]
  },
  {
   "cell_type": "code",
   "execution_count": 7,
   "metadata": {},
   "outputs": [
    {
     "data": {
      "text/plain": []
     },
     "execution_count": 7,
     "metadata": {},
     "output_type": "execute_result"
    }
   ],
   "source": [
    "void printRectangle(const Rectangle &r){\n",
    "    std::cout << \" x : \" << r.x.first << \"  -  x_w : \" << r.x.second << std::endl\n",
    "            << \"y : \" << r.y.first << \"  -  y_h : \" << r.y.second << std::endl;\n",
    "}"
   ]
  },
  {
   "cell_type": "code",
   "execution_count": 8,
   "metadata": {},
   "outputs": [
    {
     "data": {
      "text/plain": []
     },
     "execution_count": 8,
     "metadata": {},
     "output_type": "execute_result"
    }
   ],
   "source": [
    "Rectangle makeRect(int x, int x_w, int y, int y_h){\n",
    "    Rectangle n;\n",
    "    n.x = std::make_pair(x,x_w);\n",
    "    n.y = std::make_pair(y,y_h);\n",
    "    return n;\n",
    "}"
   ]
  },
  {
   "cell_type": "code",
   "execution_count": 9,
   "metadata": {},
   "outputs": [
    {
     "data": {
      "text/plain": []
     },
     "execution_count": 9,
     "metadata": {},
     "output_type": "execute_result"
    }
   ],
   "source": [
    "//-- ok this is the function -- \n",
    "\n",
    "Rectangle getIntersection(const Rectangle &a, const Rectangle &b){\n",
    "    std::pair<int, int> min_x, min_y, max_x, max_y;\n",
    "    \n",
    "    //what I really want to do here is sorting, but whatever\n",
    "    min_x = std::min(a.x, b.x);\n",
    "    max_x = std::max(a.x, b.x);\n",
    "    min_y = std::min(a.y, b.y);\n",
    "    max_y = std::max(a.y, b.y);\n",
    "    \n",
    "    if (min_x.first + min_x.second > max_x.first && min_y.first + min_y.second > max_y.first){\n",
    "        int i_x = max_x.first;\n",
    "        int w_x = std::min(min_x.first + min_x.second, max_x.first + max_x.second) - i_x;\n",
    "        int i_y = max_y.first;\n",
    "        int h_y = std::min(min_y.first + min_y.second, max_y.first + max_y.second) - i_y;\n",
    "        return (makeRect(i_x, w_x, i_y, h_y));\n",
    "    }\n",
    "    return makeRect(0,0,0,0);\n",
    "}"
   ]
  },
  {
   "cell_type": "code",
   "execution_count": 10,
   "metadata": {},
   "outputs": [
    {
     "name": "stdout",
     "output_type": "stream",
     "text": [
      " x : 2  -  x_w : 2\n",
      "y : 1  -  y_h : 1\n"
     ]
    },
    {
     "data": {
      "text/plain": [
       "(void) @0x7fe6b1cd4d08\n"
      ]
     },
     "execution_count": 10,
     "metadata": {},
     "output_type": "execute_result"
    }
   ],
   "source": [
    "Rectangle a = makeRect(1,3,1,3);\n",
    "Rectangle b = makeRect(2,3,0,2);\n",
    "printRectangle(getIntersection(a,b));"
   ]
  },
  {
   "cell_type": "code",
   "execution_count": null,
   "metadata": {
    "collapsed": true
   },
   "outputs": [],
   "source": []
  }
 ],
 "metadata": {
  "kernelspec": {
   "display_name": "C++14",
   "language": "",
   "name": "cling-cpp14"
  },
  "language_info": {
   "codemirror_mode": "c++",
   "file_extension": ".c++",
   "mimetype": "text/x-c++src",
   "name": "c++"
  }
 },
 "nbformat": 4,
 "nbformat_minor": 2
}
