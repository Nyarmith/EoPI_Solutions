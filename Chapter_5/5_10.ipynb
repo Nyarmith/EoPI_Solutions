{
 "cells": [
  {
   "cell_type": "markdown",
   "metadata": {},
   "source": [
    "#### 5.10 Greatest Common Divisor\n",
    "\n",
    "The GCD of positive integers x and y is the largest integer dsuch that d|x and d|y, where a|b denotes a divides b, i.e., b mod a = 0\n",
    "\n",
    "->design an algorithm for computing the gcd of two numbers without using multiplication, division, or the modulus operators"
   ]
  },
  {
   "cell_type": "code",
   "execution_count": null,
   "metadata": {
    "collapsed": true
   },
   "outputs": [],
   "source": []
  }
 ],
 "metadata": {
  "kernelspec": {
   "display_name": "C++14",
   "language": "",
   "name": "cling-cpp14"
  },
  "language_info": {
   "codemirror_mode": "c++",
   "file_extension": ".c++",
   "mimetype": "text/x-c++src",
   "name": "c++"
  }
 },
 "nbformat": 4,
 "nbformat_minor": 2
}
