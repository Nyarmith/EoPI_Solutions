{
 "cells": [
  {
   "cell_type": "markdown",
   "metadata": {},
   "source": [
    "## 9.1 Balanced Binary Trees\n",
    "\n",
    "A binary tree is said to be balanced if for each node in the tree, the difference in the height of its left and right subtrees is at most one.\n",
    "\n",
    "Making balanced trees is hard, luckily *this problem is just asking for us to take a tree as a function, and to return true if it's balanced and false if it isn't.*"
   ]
  },
  {
   "cell_type": "code",
   "execution_count": 1,
   "metadata": {},
   "outputs": [
    {
     "data": {
      "text/plain": []
     },
     "execution_count": 1,
     "metadata": {},
     "output_type": "execute_result"
    }
   ],
   "source": [
    "#include <iostream>                                                                                                                                          \n",
    "#include <vector>\n",
    "#include <utility> //std::pair\n",
    "#include <cmath>   //std::abs\n",
    "#include <algorithm> //std::max"
   ]
  },
  {
   "cell_type": "code",
   "execution_count": 2,
   "metadata": {},
   "outputs": [
    {
     "name": "stderr",
     "output_type": "stream",
     "text": [
      "Using raw input\n"
     ]
    },
    {
     "data": {
      "text/plain": []
     },
     "execution_count": 2,
     "metadata": {},
     "output_type": "execute_result"
    }
   ],
   "source": [
    ".rawInput"
   ]
  },
  {
   "cell_type": "code",
   "execution_count": 3,
   "metadata": {},
   "outputs": [
    {
     "data": {
      "text/plain": []
     },
     "execution_count": 3,
     "metadata": {},
     "output_type": "execute_result"
    }
   ],
   "source": [
    "struct Leaf{\n",
    "    Leaf *left;\n",
    "    Leaf *right;\n",
    "    int elem;\n",
    "};\n",
    "\n",
    "//functions to operate on it\n",
    "Leaf* makeLeaf(int elem){\n",
    "    Leaf* myLeaf = new Leaf;\n",
    "    myLeaf->left = myLeaf->right = NULL;\n",
    "    myLeaf->elem = elem;\n",
    "    return myLeaf;\n",
    "}\n",
    "\n",
    "void insertLeft(Leaf* Root, Leaf* left){\n",
    "    Root->left = left;\n",
    "}\n",
    "\n",
    "void insertRight(Leaf* Root, Leaf* right){\n",
    "    Root->right = right;\n",
    "}\n",
    "\n",
    "void printPreOrder(Leaf* Root){\n",
    "    std::cout << \"Val: \" <<  Root->elem << \"    Ptr: \" << Root << std::endl;\n",
    "    if (Root->left != NULL)\n",
    "        printPreOrder(Root->left);\n",
    "    if (Root->right != NULL)\n",
    "        printPreOrder(Root->right);\n",
    "}\n",
    "\n",
    "void simpleInsertNode(Leaf* Root, int e){\n",
    "    if ( e < Root->elem && Root->left == NULL){\n",
    "        Root->left = makeLeaf(e);\n",
    "    } else if (e < Root->elem){\n",
    "        simpleInsertNode(Root->left, e);\n",
    "    } else if (e >= Root->elem && Root->right == NULL){\n",
    "        Root->right = makeLeaf(e);\n",
    "    } else {                                                                                                                                                 \n",
    "        simpleInsertNode(Root->right, e); \n",
    "    }   \n",
    "}\n",
    "\n",
    "Leaf* buildTreeSimple(const std::vector<int>& in){\n",
    "    Leaf* root = makeLeaf(in[0]);\n",
    "    for(auto it = in.begin()+1; it != in.end(); ++it)\n",
    "        simpleInsertNode(root, *it);\n",
    "    return root;\n",
    "}\n",
    "\n",
    "\n",
    "//to avoid doing redundant computation we'll define a specific helper that returns a pair of values\n",
    "std::pair<int, bool> balanced_helper(Leaf* root){\n",
    "    if (root == NULL){\n",
    "        return std::pair<int, bool>(0,true);\n",
    "    }   \n",
    "    std::pair<int, bool> left = balanced_helper(root->left);\n",
    "    if (left.second == false){\n",
    "        return std::pair<int, bool>(0,false);\n",
    "    }   \n",
    "    std::pair<int, bool> right = balanced_helper(root->right);\n",
    "    if (right.second == false){\n",
    "        return std::pair<int, bool>(0,false);\n",
    "    }   \n",
    "\n",
    "    if (std::abs(right.first - left.first) <= 1){ \n",
    "        return std::pair<int, bool>(std::max(right.first, right.first)+1, true);\n",
    "    } else{\n",
    "        return std::pair<int, bool>(0,false);\n",
    "    }   \n",
    "}\n",
    "\n",
    "bool isBalanced(Leaf* root){\n",
    "    std::pair<int, bool> lval = balanced_helper(root);\n",
    "    return lval.second;\n",
    "}"
   ]
  },
  {
   "cell_type": "code",
   "execution_count": 4,
   "metadata": {},
   "outputs": [
    {
     "name": "stderr",
     "output_type": "stream",
     "text": [
      "Not using raw input\n"
     ]
    },
    {
     "data": {
      "text/plain": []
     },
     "execution_count": 4,
     "metadata": {},
     "output_type": "execute_result"
    }
   ],
   "source": [
    ".rawInput"
   ]
  },
  {
   "cell_type": "code",
   "execution_count": 5,
   "metadata": {},
   "outputs": [
    {
     "name": "stdout",
     "output_type": "stream",
     "text": [
      "Tree 1\n",
      "Val: 5    Ptr: 0x7f4e45daa080\n",
      "Val: 4    Ptr: 0x7f4e45c434f0\n",
      "Val: 0    Ptr: 0x7f4e459fd9a0\n",
      "Val: 6    Ptr: 0x7f4e44c1b180\n",
      "Val: 8    Ptr: 0x7f4e45c3c520\n",
      "Val: 9    Ptr: 0x7f4e45cf98c0\n",
      "Val: 23    Ptr: 0x7f4e456cf470\n",
      "binary test : 0\n",
      "Tree 2\n",
      "Val: 5    Ptr: 0x7f4e45e6c830\n",
      "Val: 4    Ptr: 0x7f4e44420060\n",
      "Val: 6    Ptr: 0x7f4e4485dd00\n",
      "\n",
      "binary test : 1"
     ]
    },
    {
     "data": {
      "text/plain": [
       "(std::basic_ostream<char, std::char_traits<char> >::__ostream_type &) @0x7f4e6e8a9f40\n"
      ]
     },
     "execution_count": 5,
     "metadata": {},
     "output_type": "execute_result"
    }
   ],
   "source": [
    "std::vector<int> ayy{ 5,6,4,8,9,0,23};\n",
    "std::vector<int> ordered{5,6,4};\n",
    "\n",
    "Leaf * ayy_tree = buildTreeSimple(ayy);\n",
    "Leaf * ordered_tree = buildTreeSimple(ordered);\n",
    "\n",
    "std::cout << \"Tree 1\\n\";\n",
    "printPreOrder(ayy_tree);\n",
    "std::cout << \"binary test : \" << isBalanced(ayy_tree);\n",
    "    \n",
    "std::cout << \"\\nTree 2\\n\";\n",
    "printPreOrder(ordered_tree);\n",
    "std::cout << \"\\nbinary test : \" << isBalanced(ordered_tree);"
   ]
  },
  {
   "cell_type": "code",
   "execution_count": null,
   "metadata": {
    "collapsed": true
   },
   "outputs": [],
   "source": []
  }
 ],
 "metadata": {
  "kernelspec": {
   "display_name": "C++14",
   "language": "",
   "name": "cling-cpp14"
  },
  "language_info": {
   "codemirror_mode": "c++",
   "file_extension": ".c++",
   "mimetype": "text/x-c++src",
   "name": "c++"
  }
 },
 "nbformat": 4,
 "nbformat_minor": 2
}
