{
 "cells": [
  {
   "cell_type": "markdown",
   "metadata": {},
   "source": [
    "## Problem 15.8, Largest Rectangle Under the Skyline\n",
    "\n",
    "Problem Stmt:\n",
    "You are given a sequence of adjacent buildings. Each has unit width and an integer height. These buildings form the skyline. You want to know the area of a largest rectangle contained in this skyline. In other words, you want to know the max area you can define with two separate height points.\n",
    "\n",
    "This is basically like $\\max_{i<j}((j - i) * \\min(H_i, H_j))$\n",
    "\n",
    "We can do this in $O({n \\choose 2})$ but is there a better way? Probably, but better to start with some solution first"
   ]
  },
  {
   "cell_type": "code",
   "execution_count": 1,
   "metadata": {},
   "outputs": [
    {
     "data": {
      "text/plain": []
     },
     "execution_count": 1,
     "metadata": {},
     "output_type": "execute_result"
    }
   ],
   "source": [
    "#include <vector>\n",
    "#include <iostream>\n",
    "#include <utility>\n",
    "#include <algorithm>"
   ]
  },
  {
   "cell_type": "code",
   "execution_count": 4,
   "metadata": {},
   "outputs": [
    {
     "name": "stderr",
     "output_type": "stream",
     "text": [
      "\u001b[1minput_line_6:3:50: \u001b[0m\u001b[0;1;31merror: \u001b[0m\u001b[1mfunction definition is not allowed here\u001b[0m\n",
      "a_pair getMaxSkyline(const std::vector<int> &vec){\n",
      "\u001b[0;1;32m                                                 ^\n",
      "\u001b[0m"
     ]
    },
    {
     "ename": "ename",
     "evalue": "evalue",
     "output_type": "error",
     "traceback": []
    }
   ],
   "source": [
    "typedef std::pair<int, int> a_pair;\n",
    "a_pair getMaxSkyline(const std::vector<int> &vec){\n",
    "    int maxi, maxj;\n",
    "    int max_area=0;\n",
    "    for (int i=0; i<vec.size()-1; i++){\n",
    "        for (int j=i+1; j<vec.size(); j++){\n",
    "            int new_area = std::min(vec[i],vec[j])*(j-i);\n",
    "            if ( new_area >  max_area ){\n",
    "                maxi=i; maxj=j;\n",
    "            }\n",
    "        }\n",
    "    }\n",
    "    a_pair ret(maxi, maxj);\n",
    "    return ret;\n",
    "}"
   ]
  },
  {
   "cell_type": "code",
   "execution_count": null,
   "metadata": {},
   "outputs": [],
   "source": [
    "std::vector<int> skyline {23, 45, 567, 456, 76, 87, 98, 45, 23};\n",
    "\n",
    "std::pair<int, int> max_ij = getMaxSkyline(skyline);\n",
    "\n",
    "std::cout << \"Max i: \" << i << \"   Max j: \" << j << std::endl;"
   ]
  },
  {
   "cell_type": "code",
   "execution_count": null,
   "metadata": {
    "collapsed": true
   },
   "outputs": [],
   "source": []
  }
 ],
 "metadata": {
  "kernelspec": {
   "display_name": "C++14",
   "language": "",
   "name": "cling-cpp14"
  },
  "language_info": {
   "codemirror_mode": "c++",
   "file_extension": ".c++",
   "mimetype": "text/x-c++src",
   "name": "c++"
  }
 },
 "nbformat": 4,
 "nbformat_minor": 2
}
