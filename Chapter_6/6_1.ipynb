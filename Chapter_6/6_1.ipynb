{
 "cells": [
  {
   "cell_type": "markdown",
   "metadata": {},
   "source": [
    "## Problem 6.1\n",
    "\n",
    "Write a function that takes an array A and an index i into A, and rearranges the elements such that all elements less than A_i appear first, followed  by elements equal to A_i, followed by elements greater than A_i. No extra space should be needed, and time complexity is $O(\\mid A \\mid)$\n",
    "\n",
    "-This is essentially just a simple partitioning"
   ]
  },
  {
   "cell_type": "code",
   "execution_count": null,
   "metadata": {},
   "outputs": [
    {
     "name": "stderr",
     "output_type": "stream",
     "text": [
      "\u001b[1minput_line_3:9:42: \u001b[0m\u001b[0;1;31merror: \u001b[0m\u001b[1mfunction definition is not allowed here\u001b[0m\n",
      "void partition(vector<int> &A, int index){\n",
      "\u001b[0;1;32m                                         ^\n",
      "\u001b[0m\u001b[1minput_line_3:31:38: \u001b[0m\u001b[0;1;31merror: \u001b[0m\u001b[1mfunction definition is not allowed here\u001b[0m\n",
      "void printVec(const vector<int> &vec){\n",
      "\u001b[0;1;32m                                     ^\n",
      "\u001b[0m"
     ]
    }
   ],
   "source": [
    "#include <iostream>\n",
    "#include <vector>\n",
    "#include <utility>  //std::swap no longer in algorithm, but now in utility\n"
   ]
  },
  {
   "cell_type": "code",
   "execution_count": null,
   "metadata": {},
   "outputs": [],
   "source": [
    "//whyyyy are you telling me \"function definition is not allowed here?\", anyway this works in tests outside of this\n",
    "using std::vector;\n",
    "using std::swap;\n",
    "\n",
    "void partition(vector<int> &A, int index){\n",
    "    //keep the instances of A[index] stored in the front\n",
    "    swap(A[index],A[0]);\n",
    "    int front=1, back=A.size()-1;\n",
    "    int i=1;\n",
    "    while(i < back){\n",
    "        if (A[i] > A[0]){\n",
    "            swap(A[back], A[i]); --back;\n",
    "        }\n",
    "        else if (A[i] == A[0]){\n",
    "            swap(A[i],A[front]); ++i; ++front;\n",
    "        }\n",
    "        else\n",
    "            ++i;\n",
    "    }   \n",
    "    --front;\n",
    "    while (front >= 0){ \n",
    "        swap(A[i], A[front]);\n",
    "        --i; --front;\n",
    "    }   \n",
    "}\n",
    "\n",
    "void printVec(const vector<int> &vec){\n",
    "    for (vector<int>::size_type i=0; i<vec.size(); i++){\n",
    "        std::cout << vec[i] << std::endl;\n",
    "    }   \n",
    "}\n",
    "\n",
    "\n",
    "//sample inputs\n",
    "vector<int> an_array {2,7,5,22,44,7};\n",
    "vector<int> another_array {3,4,5,6,5,4,3};"
   ]
  },
  {
   "cell_type": "code",
   "execution_count": null,
   "metadata": {
    "collapsed": true
   },
   "outputs": [],
   "source": []
  }
 ],
 "metadata": {
  "kernelspec": {
   "display_name": "C++14",
   "language": "",
   "name": "cling-cpp14"
  },
  "language_info": {
   "codemirror_mode": "c++",
   "file_extension": ".c++",
   "mimetype": "text/x-c++src",
   "name": "c++"
  }
 },
 "nbformat": 4,
 "nbformat_minor": 2
}
