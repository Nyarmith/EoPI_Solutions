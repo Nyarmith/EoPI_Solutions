{
 "cells": [
  {
   "cell_type": "markdown",
   "metadata": {},
   "source": [
    "## 6.2\n",
    "\n",
    "Design a deterministic scheme by which reads and writes to an ininitialized array can be made in O(1) time. You may use O(n) additional storage; reads to uninitialized entry should return false.\n",
    "\n",
    "\n",
    "Create an (uninitialized) array P of n pointers. The array P will maintain a pointer for each initialized entry of A to a back pointer on another array S, itself an (uninitialized) array of n integers. An integer-valued variable t indicates the first empty entry in S; initially, t = 0.\n"
   ]
  },
  {
   "cell_type": "code",
   "execution_count": 1,
   "metadata": {},
   "outputs": [
    {
     "data": {
      "text/plain": []
     },
     "execution_count": 1,
     "metadata": {},
     "output_type": "execute_result"
    }
   ],
   "source": [
    "#include <memory>\n",
    "#include <iostream>\n",
    "#include <algorithm>"
   ]
  },
  {
   "cell_type": "code",
   "execution_count": 20,
   "metadata": {},
   "outputs": [
    {
     "data": {
      "text/plain": []
     },
     "execution_count": 20,
     "metadata": {},
     "output_type": "execute_result"
    }
   ],
   "source": [
    "class lazy_bool_array{\n",
    "    bool * value_arr;\n",
    "    int  * ptr_arr;\n",
    "    int  * back_ptr;\n",
    "    int fst_ptr;    \n",
    "public:\n",
    "    const bool isValid(const size_t &i) const{\n",
    "        return (0 <= ptr_arr[i] && ptr_arr[i] < fst_ptr && back_ptr[ptr_arr[i]]);\n",
    "    }\n",
    "    const bool read(const size_t &i){\n",
    "        if (isValid(i)){\n",
    "            return true;\n",
    "        }\n",
    "        return false;\n",
    "    }\n",
    "    void write(const size_t &i, const bool &v){\n",
    "        if (!isValid(i)){\n",
    "            back_ptr[fst_ptr] = i;\n",
    "            ptr_arr[i] = fst_ptr++;\n",
    "        }\n",
    "        value_arr[i] = v;\n",
    "    }\n",
    "}"
   ]
  },
  {
   "cell_type": "markdown",
   "metadata": {},
   "source": [
    "    The solution is too complicated for me, but it follows as such: \"Create an (uninitialized) array $P$ of $n$ pointers. The arrayt $P$ will maintain a pointer for each initialized entry of $A$ to a back pointer on another array S, itself an (uninitialized) array of $n$ integers. An integer-valued variable $t$ indicated the first empty entry in $S$; initially. $t = 0$.\n",
    "    \n",
    "    Each time entry $i$ from $A$ is to be read, we can check if that entry has been written to before by examining $P_i$. If $P_i$ is outside $\\[0,t-1\\]$, $A_i$ is uninitialized. However, even if $P_i$ is uninitialized, it may lie in $\\[0,t-1\\]$. We look at the \"back pointer\" stored in $S_{P_i}$ and confirm that it is indeed i. (what if this happens to be the same?).\n",
    "    \n",
    "    The first time entry $i$ is written in $A$, we set $S_t$ to $i$, $P_i$ to $t$ and increment $t$.\n",
    "    "
   ]
  },
  {
   "cell_type": "code",
   "execution_count": null,
   "metadata": {
    "collapsed": true
   },
   "outputs": [],
   "source": []
  }
 ],
 "metadata": {
  "kernelspec": {
   "display_name": "C++14",
   "language": "",
   "name": "cling-cpp14"
  },
  "language_info": {
   "codemirror_mode": "c++",
   "file_extension": ".c++",
   "mimetype": "text/x-c++src",
   "name": "c++"
  }
 },
 "nbformat": 4,
 "nbformat_minor": 2
}
